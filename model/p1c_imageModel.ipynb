{
 "cells": [
  {
   "cell_type": "code",
   "execution_count": null,
   "metadata": {},
   "outputs": [],
   "source": [
    "from __future__ import print_function\n",
    "from __future__ import absolute_import"
   ]
  },
  {
   "cell_type": "code",
   "execution_count": 2,
   "metadata": {},
   "outputs": [
    {
     "name": "stderr",
     "output_type": "stream",
     "text": [
      "/home/sracela/miniconda3/envs/p2c/lib/python3.6/site-packages/tensorflow/python/framework/dtypes.py:516: FutureWarning: Passing (type, 1) or '1type' as a synonym of type is deprecated; in a future version of numpy, it will be understood as (type, (1,)) / '(1,)type'.\n",
      "  _np_qint8 = np.dtype([(\"qint8\", np.int8, 1)])\n",
      "/home/sracela/miniconda3/envs/p2c/lib/python3.6/site-packages/tensorflow/python/framework/dtypes.py:517: FutureWarning: Passing (type, 1) or '1type' as a synonym of type is deprecated; in a future version of numpy, it will be understood as (type, (1,)) / '(1,)type'.\n",
      "  _np_quint8 = np.dtype([(\"quint8\", np.uint8, 1)])\n",
      "/home/sracela/miniconda3/envs/p2c/lib/python3.6/site-packages/tensorflow/python/framework/dtypes.py:518: FutureWarning: Passing (type, 1) or '1type' as a synonym of type is deprecated; in a future version of numpy, it will be understood as (type, (1,)) / '(1,)type'.\n",
      "  _np_qint16 = np.dtype([(\"qint16\", np.int16, 1)])\n",
      "/home/sracela/miniconda3/envs/p2c/lib/python3.6/site-packages/tensorflow/python/framework/dtypes.py:519: FutureWarning: Passing (type, 1) or '1type' as a synonym of type is deprecated; in a future version of numpy, it will be understood as (type, (1,)) / '(1,)type'.\n",
      "  _np_quint16 = np.dtype([(\"quint16\", np.uint16, 1)])\n",
      "/home/sracela/miniconda3/envs/p2c/lib/python3.6/site-packages/tensorflow/python/framework/dtypes.py:520: FutureWarning: Passing (type, 1) or '1type' as a synonym of type is deprecated; in a future version of numpy, it will be understood as (type, (1,)) / '(1,)type'.\n",
      "  _np_qint32 = np.dtype([(\"qint32\", np.int32, 1)])\n",
      "/home/sracela/miniconda3/envs/p2c/lib/python3.6/site-packages/tensorflow/python/framework/dtypes.py:525: FutureWarning: Passing (type, 1) or '1type' as a synonym of type is deprecated; in a future version of numpy, it will be understood as (type, (1,)) / '(1,)type'.\n",
      "  np_resource = np.dtype([(\"resource\", np.ubyte, 1)])\n",
      "/home/sracela/miniconda3/envs/p2c/lib/python3.6/site-packages/tensorboard/compat/tensorflow_stub/dtypes.py:541: FutureWarning: Passing (type, 1) or '1type' as a synonym of type is deprecated; in a future version of numpy, it will be understood as (type, (1,)) / '(1,)type'.\n",
      "  _np_qint8 = np.dtype([(\"qint8\", np.int8, 1)])\n",
      "/home/sracela/miniconda3/envs/p2c/lib/python3.6/site-packages/tensorboard/compat/tensorflow_stub/dtypes.py:542: FutureWarning: Passing (type, 1) or '1type' as a synonym of type is deprecated; in a future version of numpy, it will be understood as (type, (1,)) / '(1,)type'.\n",
      "  _np_quint8 = np.dtype([(\"quint8\", np.uint8, 1)])\n",
      "/home/sracela/miniconda3/envs/p2c/lib/python3.6/site-packages/tensorboard/compat/tensorflow_stub/dtypes.py:543: FutureWarning: Passing (type, 1) or '1type' as a synonym of type is deprecated; in a future version of numpy, it will be understood as (type, (1,)) / '(1,)type'.\n",
      "  _np_qint16 = np.dtype([(\"qint16\", np.int16, 1)])\n",
      "/home/sracela/miniconda3/envs/p2c/lib/python3.6/site-packages/tensorboard/compat/tensorflow_stub/dtypes.py:544: FutureWarning: Passing (type, 1) or '1type' as a synonym of type is deprecated; in a future version of numpy, it will be understood as (type, (1,)) / '(1,)type'.\n",
      "  _np_quint16 = np.dtype([(\"quint16\", np.uint16, 1)])\n",
      "/home/sracela/miniconda3/envs/p2c/lib/python3.6/site-packages/tensorboard/compat/tensorflow_stub/dtypes.py:545: FutureWarning: Passing (type, 1) or '1type' as a synonym of type is deprecated; in a future version of numpy, it will be understood as (type, (1,)) / '(1,)type'.\n",
      "  _np_qint32 = np.dtype([(\"qint32\", np.int32, 1)])\n",
      "/home/sracela/miniconda3/envs/p2c/lib/python3.6/site-packages/tensorboard/compat/tensorflow_stub/dtypes.py:550: FutureWarning: Passing (type, 1) or '1type' as a synonym of type is deprecated; in a future version of numpy, it will be understood as (type, (1,)) / '(1,)type'.\n",
      "  np_resource = np.dtype([(\"resource\", np.ubyte, 1)])\n"
     ]
    }
   ],
   "source": [
    "import os\n",
    "import tensorflow as tf"
   ]
  },
  {
   "cell_type": "code",
   "execution_count": 3,
   "metadata": {},
   "outputs": [],
   "source": [
    "tf.enable_eager_execution()"
   ]
  },
  {
   "cell_type": "code",
   "execution_count": 4,
   "metadata": {},
   "outputs": [
    {
     "data": {
      "text/plain": [
       "True"
      ]
     },
     "execution_count": 4,
     "metadata": {},
     "output_type": "execute_result"
    }
   ],
   "source": [
    "tf.executing_eagerly()"
   ]
  },
  {
   "cell_type": "markdown",
   "metadata": {},
   "source": [
    "### GPU"
   ]
  },
  {
   "cell_type": "code",
   "execution_count": 5,
   "metadata": {},
   "outputs": [],
   "source": [
    "# from tensorflow.python.client import device_lib\n",
    "\n",
    "# def get_available_gpus():\n",
    "#     local_device_protos = device_lib.list_local_devices()\n",
    "#     return [x.name for x in local_device_protos if x.device_type == 'GPU']\n",
    "# get_available_gpus()"
   ]
  },
  {
   "cell_type": "code",
   "execution_count": 6,
   "metadata": {},
   "outputs": [
    {
     "data": {
      "text/plain": [
       "True"
      ]
     },
     "execution_count": 6,
     "metadata": {},
     "output_type": "execute_result"
    }
   ],
   "source": [
    "tf.test.is_gpu_available()"
   ]
  },
  {
   "cell_type": "code",
   "execution_count": 7,
   "metadata": {},
   "outputs": [],
   "source": [
    "# tf.test.is_built_with_cuda()"
   ]
  },
  {
   "cell_type": "code",
   "execution_count": 8,
   "metadata": {},
   "outputs": [],
   "source": [
    "# sess = tf.Session(config=tf.ConfigProto(log_device_placement=True))"
   ]
  },
  {
   "cell_type": "code",
   "execution_count": 9,
   "metadata": {},
   "outputs": [],
   "source": [
    "# tf.config.experimental.list_physical_devices(\"GPU\")"
   ]
  },
  {
   "cell_type": "markdown",
   "metadata": {},
   "source": [
    "# Dataset"
   ]
  },
  {
   "cell_type": "code",
   "execution_count": 10,
   "metadata": {},
   "outputs": [],
   "source": [
    "from classes.Vocabulary import *\n",
    "from classes.Utils import *"
   ]
  },
  {
   "cell_type": "markdown",
   "metadata": {},
   "source": [
    "### Images and captions\n",
    "\n",
    "Transformed images in training dataset to numpy arrays already provided in \n",
    "\n",
    "../datasets/web/training_features\n",
    "\n",
    "Normalized pixel values and resized pictures "
   ]
  },
  {
   "cell_type": "code",
   "execution_count": 12,
   "metadata": {},
   "outputs": [],
   "source": [
    "# Store captions and image names in vectors\n",
    "# Preprocess the images && Preprocess and tokenize the captions\n",
    "\n",
    "input_path = '../datasets/android/training_features'\n",
    "# input_path = '../datasets/android/training_set'\n",
    "output_path = '../bin'"
   ]
  },
  {
   "cell_type": "markdown",
   "metadata": {},
   "source": [
    "## Initialize Image model and load the pretrained Imagenet weights"
   ]
  },
  {
   "cell_type": "markdown",
   "metadata": {},
   "source": [
    "### Dataset class"
   ]
  },
  {
   "cell_type": "code",
   "execution_count": 13,
   "metadata": {},
   "outputs": [],
   "source": [
    "IMAGE_SIZE = 256\n",
    "is_coordconv = True\n",
    "VGG_OUT_LOOP = False\n",
    "# 360 x 740"
   ]
  },
  {
   "cell_type": "code",
   "execution_count": 14,
   "metadata": {},
   "outputs": [],
   "source": [
    "def clean_sequence(token_sequence):\n",
    "    new_sequence = [ x for x in token_sequence if x is not '\\n']\n",
    "    sequence_no_comas = [ x for x in new_sequence if x is not ',']\n",
    "    sequence_no_arrows = [ x for x in sequence_no_comas if x is not '{']\n",
    "    sequence_no_arrows = [ x for x in sequence_no_arrows if x is not '}']\n",
    "    del sequence_no_arrows[1]\n",
    "    return sequence_no_arrows"
   ]
  },
  {
   "cell_type": "code",
   "execution_count": 15,
   "metadata": {},
   "outputs": [],
   "source": [
    "class Dataset:\n",
    "    def __init__(self):\n",
    "        self.input_shape = None\n",
    "        self.output_size = None\n",
    "\n",
    "        self.ids = []\n",
    "        self.input_images = []\n",
    "        self.total_sequences = []\n",
    "        \n",
    "        self.voc = Vocabulary()\n",
    "        self.size = 0\n",
    "    def load(self, path, generate_binary_sequences=False):\n",
    "        print(\"Loading data...\")\n",
    "        for f in os.listdir(path):\n",
    "            if f.find(\".gui\") != -1:\n",
    "                gui = open(\"{}/{}\".format(path, f), 'r')\n",
    "                file_name = f[:f.find(\".gui\")]\n",
    "\n",
    "                if os.path.isfile(\"{}/{}.png\".format(path, file_name)):\n",
    "                    img = Utils.get_preprocessed_img(\"{}/{}.png\".format(path, file_name), IMAGE_SIZE)\n",
    "                    self.append(file_name, gui, img)\n",
    "                elif os.path.isfile(\"{}/{}.npz\".format(path, file_name)):\n",
    "                    img = np.load(\"{}/{}.npz\".format(path, file_name))[\"features\"]\n",
    "                    self.append(file_name, gui, img)\n",
    "\n",
    "        print(\"Generating sparse vectors...\")\n",
    "        self.voc.create_binary_representation()\n",
    "        if generate_binary_sequences:\n",
    "            self.total_sequences = self.binarize(self.total_sequences, self.voc)\n",
    "        else:\n",
    "            self.total_sequences = self.indexify(self.total_sequences, self.voc)\n",
    "        \n",
    "        self.size = len(self.ids)\n",
    "        assert self.size == len(self.input_images) == len(self.total_sequences)\n",
    "        assert self.voc.size == len(self.voc.vocabulary)\n",
    "        \n",
    "        self.voc.save(output_path)\n",
    "        \n",
    "        print(\"Dataset size: {}\".format(self.size))\n",
    "        print(\"Vocabulary size: {}\".format(self.voc.size))\n",
    "\n",
    "        self.input_shape = self.input_images[0].shape\n",
    "        self.output_size = self.voc.size\n",
    "\n",
    "        print(\"Input shape: {}\".format(self.input_shape))\n",
    "        print(\"Output size: {}\".format(self.output_size))\n",
    "\n",
    "    def append(self, sample_id, gui, img, to_show=False):\n",
    "        if to_show:\n",
    "            pic = img * 255\n",
    "            pic = np.array(pic, dtype=np.uint8)\n",
    "            Utils.show(pic)\n",
    "\n",
    "        token_sequence = [START_TOKEN]\n",
    "        for line in gui:\n",
    "            line = line.replace(\",\", \" ,\").replace(\"\\n\", \" \\n\")\n",
    "            tokens = line.split(\" \")\n",
    "            for token in tokens:\n",
    "                # self.voc.append(token)\n",
    "                token_sequence.append(token)\n",
    "        token_sequence.append(END_TOKEN)\n",
    "        # new dataset\n",
    "        token_sequence = clean_sequence(token_sequence)\n",
    "        for token in token_sequence:\n",
    "            self.voc.append(token)\n",
    "        \n",
    "        self.ids.append(sample_id)\n",
    "        self.input_images.append(img)\n",
    "        self.total_sequences.append(token_sequence)\n",
    "\n",
    "    @staticmethod\n",
    "    def indexify(partial_sequences, voc):\n",
    "        temp = []\n",
    "        for sequence in partial_sequences:\n",
    "            sparse_vectors_sequence = []\n",
    "            for token in sequence:\n",
    "                sparse_vectors_sequence.append(voc.vocabulary[token])\n",
    "            temp.append(np.array(sparse_vectors_sequence))\n",
    "\n",
    "        return temp                "
   ]
  },
  {
   "cell_type": "code",
   "execution_count": 16,
   "metadata": {},
   "outputs": [
    {
     "name": "stdout",
     "output_type": "stream",
     "text": [
      "Loading data...\n",
      "Generating sparse vectors...\n",
      "Dataset size: 1500\n",
      "Vocabulary size: 14\n",
      "Input shape: (256, 256, 3)\n",
      "Output size: 14\n"
     ]
    }
   ],
   "source": [
    "# Load caption annotation files and image files in Dataset\n",
    "raw_dataset = Dataset()\n",
    "raw_dataset.load(input_path)"
   ]
  },
  {
   "cell_type": "code",
   "execution_count": 17,
   "metadata": {},
   "outputs": [
    {
     "data": {
      "text/plain": [
       "array([0, 2, 3, 4, 2, 3, 5, 3, 6, 7, 7, 1])"
      ]
     },
     "execution_count": 17,
     "metadata": {},
     "output_type": "execute_result"
    }
   ],
   "source": [
    "raw_dataset.total_sequences[0]"
   ]
  },
  {
   "cell_type": "code",
   "execution_count": 18,
   "metadata": {},
   "outputs": [],
   "source": [
    "# tf.keras.applications.ResNet50(\n",
    "#     include_top=True, weights='imagenet', input_tensor=None, input_shape=None,\n",
    "#     pooling=None, classes=1000)"
   ]
  },
  {
   "cell_type": "code",
   "execution_count": 19,
   "metadata": {},
   "outputs": [],
   "source": [
    "# orig_image_mode = tf.keras.applications.ResNet50(\n",
    "#     include_top=True, weights='imagenet', input_tensor=None, input_shape=None,\n",
    "#     pooling=None, classes=1000)"
   ]
  },
  {
   "cell_type": "markdown",
   "metadata": {},
   "source": [
    "### Image model VGG16"
   ]
  },
  {
   "cell_type": "markdown",
   "metadata": {},
   "source": [
    "#### CoordConv"
   ]
  },
  {
   "cell_type": "code",
   "execution_count": 20,
   "metadata": {},
   "outputs": [],
   "source": [
    "from tensorflow.python.keras.engine import base_layer\n",
    "\n",
    "from tensorflow.keras.models import Sequential\n",
    "from tensorflow.keras.layers import Conv2D\n",
    "from tensorflow.keras.layers import MaxPooling2D\n",
    "from tensorflow.keras.layers import Dropout\n",
    "from tensorflow.keras.layers import Flatten\n",
    "from tensorflow.keras.layers import Dense\n",
    "from tensorflow.keras.layers import Input"
   ]
  },
  {
   "cell_type": "code",
   "execution_count": 21,
   "metadata": {},
   "outputs": [],
   "source": [
    "class AddCoords(base_layer.Layer):\n",
    "    \"\"\"Add coords to a tensor\"\"\"\n",
    "    def __init__(self, x_dim=256, y_dim=256, with_r=False, skiptile=True, **kwargs):\n",
    "        super(AddCoords, self).__init__()\n",
    "        self.x_dim = x_dim\n",
    "        self.y_dim = y_dim\n",
    "        self.with_r = with_r\n",
    "        self.skiptile = skiptile\n",
    "\n",
    "\n",
    "    def call(self, input_tensor):\n",
    "        \"\"\"\n",
    "        input_tensor: (batch, 1, 1, c), or (batch, x_dim, y_dim, c)\n",
    "        In the first case, first tile the input_tensor to be (batch, x_dim, y_dim, c)\n",
    "        In the second case, skiptile, just concat\n",
    "        \"\"\"\n",
    "        if not self.skiptile:\n",
    "            input_tensor = tf.tile(input_tensor, [1, self.x_dim, self.y_dim, 1]) # (batch, 64, 64, 2)\n",
    "            input_tensor = tf.cast(input_tensor, 'float32')\n",
    "\n",
    "        batch_size_tensor = tf.shape(input_tensor)[0]  # get batch size\n",
    "\n",
    "        xx_ones = tf.ones([batch_size_tensor, self.x_dim], \n",
    "                          dtype=tf.int32)                       # e.g. (batch, 64)\n",
    "        xx_ones = tf.expand_dims(xx_ones, -1)                   # e.g. (batch, 64, 1)\n",
    "        xx_range = tf.tile(tf.expand_dims(tf.range(self.y_dim), 0), \n",
    "                            [batch_size_tensor, 1])             # e.g. (batch, 64)\n",
    "        xx_range = tf.expand_dims(xx_range, 1)                  # e.g. (batch, 1, 64)\n",
    "\n",
    "\n",
    "        xx_channel = tf.matmul(xx_ones, xx_range)               # e.g. (batch, 64, 64)\n",
    "        xx_channel = tf.expand_dims(xx_channel, -1)             # e.g. (batch, 64, 64, 1)\n",
    "\n",
    "\n",
    "        yy_ones = tf.ones([batch_size_tensor, self.y_dim], \n",
    "                          dtype=tf.int32)                       # e.g. (batch, 64)\n",
    "        yy_ones = tf.expand_dims(yy_ones, 1)                    # e.g. (batch, 1, 64)\n",
    "        yy_range = tf.tile(tf.expand_dims(tf.range(self.x_dim), 0),\n",
    "                            [batch_size_tensor, 1])             # (batch, 64)\n",
    "        yy_range = tf.expand_dims(yy_range, -1)                 # e.g. (batch, 64, 1)\n",
    "\n",
    "        yy_channel = tf.matmul(yy_range, yy_ones)               # e.g. (batch, 64, 64)\n",
    "        yy_channel = tf.expand_dims(yy_channel, -1)             # e.g. (batch, 64, 64, 1)\n",
    "\n",
    "        xx_channel = tf.cast(xx_channel, 'float32') / (self.x_dim - 1)\n",
    "        yy_channel = tf.cast(yy_channel, 'float32') / (self.y_dim - 1)\n",
    "        xx_channel = xx_channel*2 - 1                           # [-1,1]\n",
    "        yy_channel = yy_channel*2 - 1\n",
    "\n",
    "        ret = tf.concat([input_tensor, \n",
    "                         xx_channel, \n",
    "                         yy_channel], axis=-1)    # e.g. (batch, 64, 64, c+2)\n",
    "\n",
    "        if self.with_r:\n",
    "            rr = tf.sqrt( tf.square(xx_channel)\n",
    "                    + tf.square(yy_channel)\n",
    "                    )\n",
    "            ret = tf.concat([ret, rr], axis=-1)   # e.g. (batch, 64, 64, c+3)\n",
    "\n",
    "        return ret\n",
    "class CoordConv(base_layer.Layer):\n",
    "    \"\"\"CoordConv layer as in the paper.\"\"\"\n",
    "    def __init__(self, x_dim, y_dim, with_r, *args,  **kwargs):\n",
    "        super(CoordConv, self).__init__()\n",
    "        self.addcoords = AddCoords(x_dim=x_dim, \n",
    "                                   y_dim=y_dim, \n",
    "                                   with_r=with_r,\n",
    "                                   skiptile=True)\n",
    "#         self.conv = tf.layers.Conv2D(*args, **kwargs) \n",
    "        self.conv = tf.layers.Conv2D(8, (1, 1))\n",
    "\n",
    "    def call(self, input_tensor):\n",
    "        ret = self.addcoords(input_tensor)\n",
    "        ret = self.conv(ret)\n",
    "        return ret"
   ]
  },
  {
   "cell_type": "code",
   "execution_count": 22,
   "metadata": {},
   "outputs": [
    {
     "name": "stdout",
     "output_type": "stream",
     "text": [
      "Model: \"vgg16\"\n",
      "_________________________________________________________________\n",
      "Layer (type)                 Output Shape              Param #   \n",
      "=================================================================\n",
      "input_1 (InputLayer)         [(None, 256, 256, 3)]     0         \n",
      "_________________________________________________________________\n",
      "block1_conv1 (Conv2D)        (None, 256, 256, 64)      1792      \n",
      "_________________________________________________________________\n",
      "block1_conv2 (Conv2D)        (None, 256, 256, 64)      36928     \n",
      "_________________________________________________________________\n",
      "block1_pool (MaxPooling2D)   (None, 128, 128, 64)      0         \n",
      "_________________________________________________________________\n",
      "block2_conv1 (Conv2D)        (None, 128, 128, 128)     73856     \n",
      "_________________________________________________________________\n",
      "block2_conv2 (Conv2D)        (None, 128, 128, 128)     147584    \n",
      "_________________________________________________________________\n",
      "block2_pool (MaxPooling2D)   (None, 64, 64, 128)       0         \n",
      "_________________________________________________________________\n",
      "block3_conv1 (Conv2D)        (None, 64, 64, 256)       295168    \n",
      "_________________________________________________________________\n",
      "block3_conv2 (Conv2D)        (None, 64, 64, 256)       590080    \n",
      "_________________________________________________________________\n",
      "block3_conv3 (Conv2D)        (None, 64, 64, 256)       590080    \n",
      "_________________________________________________________________\n",
      "block3_pool (MaxPooling2D)   (None, 32, 32, 256)       0         \n",
      "_________________________________________________________________\n",
      "block4_conv1 (Conv2D)        (None, 32, 32, 512)       1180160   \n",
      "_________________________________________________________________\n",
      "block4_conv2 (Conv2D)        (None, 32, 32, 512)       2359808   \n",
      "_________________________________________________________________\n",
      "block4_conv3 (Conv2D)        (None, 32, 32, 512)       2359808   \n",
      "_________________________________________________________________\n",
      "block4_pool (MaxPooling2D)   (None, 16, 16, 512)       0         \n",
      "_________________________________________________________________\n",
      "block5_conv1 (Conv2D)        (None, 16, 16, 512)       2359808   \n",
      "_________________________________________________________________\n",
      "block5_conv2 (Conv2D)        (None, 16, 16, 512)       2359808   \n",
      "_________________________________________________________________\n",
      "block5_conv3 (Conv2D)        (None, 16, 16, 512)       2359808   \n",
      "_________________________________________________________________\n",
      "block5_pool (MaxPooling2D)   (None, 8, 8, 512)         0         \n",
      "=================================================================\n",
      "Total params: 14,714,688\n",
      "Trainable params: 14,714,688\n",
      "Non-trainable params: 0\n",
      "_________________________________________________________________\n"
     ]
    }
   ],
   "source": [
    "orig_image_model = tf.keras.applications.VGG16(\n",
    "include_top=False, weights='imagenet', input_shape=(256, 256, 3))\n",
    "orig_image_model.summary()"
   ]
  },
  {
   "cell_type": "code",
   "execution_count": 23,
   "metadata": {},
   "outputs": [
    {
     "name": "stdout",
     "output_type": "stream",
     "text": [
      "WARNING:tensorflow:From /home/sracela/miniconda3/envs/p2c/lib/python3.6/site-packages/tensorflow/python/ops/init_ops.py:1251: calling VarianceScaling.__init__ (from tensorflow.python.ops.init_ops) with dtype is deprecated and will be removed in a future version.\n",
      "Instructions for updating:\n",
      "Call initializer instance with the dtype argument instead of passing it to the constructor\n"
     ]
    }
   ],
   "source": [
    "image_model = Sequential()\n",
    "\n",
    "if is_coordconv:\n",
    "    image_model.add(Input(shape=(256,256,3)))\n",
    "    image_model.add(CoordConv(x_dim=256, y_dim=256, with_r=False))\n",
    "#     image_model.add(AddCoords(x_dim=256, y_dim=256, with_r=False))\n",
    "#     image_model.add(Conv2D(32, (3, 3), padding='valid', activation='relu'))\n",
    "else:\n",
    "    image_model.add(Conv2D(32, (3, 3), padding='valid', activation='relu', input_shape=(256,256,3)))\n",
    "image_model.add(Conv2D(32, (3, 3), padding='valid', activation='relu'))\n",
    "image_model.add(MaxPooling2D(pool_size=(2, 2)))\n",
    "image_model.add(Dropout(0.25))\n",
    "\n",
    "image_model.add(Conv2D(64, (3, 3), padding='valid', activation='relu'))\n",
    "image_model.add(Conv2D(64, (3, 3), padding='valid', activation='relu'))\n",
    "image_model.add(MaxPooling2D(pool_size=(2, 2)))\n",
    "image_model.add(Dropout(0.25))\n",
    "\n",
    "image_model.add(Conv2D(128, (3, 3), padding='valid', activation='relu'))\n",
    "image_model.add(Conv2D(128, (3, 3), padding='valid', activation='relu'))\n",
    "image_model.add(MaxPooling2D(pool_size=(2, 2)))\n",
    "image_model.add(Dropout(0.25))\n",
    "\n",
    "# image_model.add(Conv2D(256, (3, 3), padding='valid', activation='relu'))\n",
    "# image_model.add(Conv2D(256, (3, 3), padding='valid', activation='relu'))\n",
    "# image_model.add(MaxPooling2D(pool_size=(2, 2)))\n",
    "\n",
    "# image_model.add(Flatten())\n",
    "# image_model.add(Dense(1024, activation='relu'))\n",
    "# image_model.add(Dropout(0.3))\n",
    "# image_model.add(Dense(1024, activation='relu'))\n",
    "# image_model.add(Dropout(0.3))\n"
   ]
  },
  {
   "cell_type": "code",
   "execution_count": 24,
   "metadata": {},
   "outputs": [
    {
     "name": "stdout",
     "output_type": "stream",
     "text": [
      "Model: \"sequential\"\n",
      "_________________________________________________________________\n",
      "Layer (type)                 Output Shape              Param #   \n",
      "=================================================================\n",
      "coord_conv (CoordConv)       (None, 256, 256, 8)       48        \n",
      "_________________________________________________________________\n",
      "conv2d_1 (Conv2D)            (None, 254, 254, 32)      2336      \n",
      "_________________________________________________________________\n",
      "max_pooling2d (MaxPooling2D) (None, 127, 127, 32)      0         \n",
      "_________________________________________________________________\n",
      "dropout (Dropout)            (None, 127, 127, 32)      0         \n",
      "_________________________________________________________________\n",
      "conv2d_2 (Conv2D)            (None, 125, 125, 64)      18496     \n",
      "_________________________________________________________________\n",
      "conv2d_3 (Conv2D)            (None, 123, 123, 64)      36928     \n",
      "_________________________________________________________________\n",
      "max_pooling2d_1 (MaxPooling2 (None, 61, 61, 64)        0         \n",
      "_________________________________________________________________\n",
      "dropout_1 (Dropout)          (None, 61, 61, 64)        0         \n",
      "_________________________________________________________________\n",
      "conv2d_4 (Conv2D)            (None, 59, 59, 128)       73856     \n",
      "_________________________________________________________________\n",
      "conv2d_5 (Conv2D)            (None, 57, 57, 128)       147584    \n",
      "_________________________________________________________________\n",
      "max_pooling2d_2 (MaxPooling2 (None, 28, 28, 128)       0         \n",
      "_________________________________________________________________\n",
      "dropout_2 (Dropout)          (None, 28, 28, 128)       0         \n",
      "=================================================================\n",
      "Total params: 279,248\n",
      "Trainable params: 279,248\n",
      "Non-trainable params: 0\n",
      "_________________________________________________________________\n"
     ]
    }
   ],
   "source": [
    "image_model.summary()"
   ]
  },
  {
   "cell_type": "code",
   "execution_count": 25,
   "metadata": {},
   "outputs": [],
   "source": [
    "# coordconv = CoordConv(x_dim=256, y_dim=256, with_r=False, skiptile=True)\n",
    "\n",
    "# orig_model = tf.keras.applications.VGG16(\n",
    "# include_top=False, weights='imagenet')\n",
    "# dense_input = tf.keras.layers.Input(shape=(256, 256, 3))\n",
    "# dense_filter = coordconv(dense_input)\n",
    "# output = orig_model(dense_filter)\n",
    "\n",
    "# image_model = tf.keras.applications.VGG16(\n",
    "# include_top=False, weights='imagenet', input_shape=(180, 370, 3))\n",
    "# new_input = image_model.input\n",
    "# hidden_layer = image_model.layers[-1].output\n",
    "\n",
    "# image_model.summary()"
   ]
  },
  {
   "cell_type": "code",
   "execution_count": 26,
   "metadata": {},
   "outputs": [],
   "source": [
    "# if is_coordconv:\n",
    "#     image_features_extract_model = tf.keras.Model(dense_input, output)\n",
    "#     dense_input, output\n",
    "# else:\n",
    "#     image_features_extract_model = tf.keras.Model(new_input, hidden_layer)\n",
    "#     new_input, hidden_layer"
   ]
  },
  {
   "cell_type": "code",
   "execution_count": 27,
   "metadata": {},
   "outputs": [],
   "source": [
    "image_dataset = []\n",
    "if VGG_OUT_LOOP:\n",
    "#     image_features_extract_model = tf.keras.Model(new_input, hidden_layer)\n",
    "    for img in raw_dataset.input_images:\n",
    "        img = img.reshape([1] + list(raw_dataset.input_shape))\n",
    "        img_features = image_features_extract_model(img)\n",
    "        img_features = tf.reshape(img_features,\n",
    "    (img_features.shape[0], -1, img_features.shape[3]))\n",
    "        img_features = tf.squeeze(\n",
    "        img_features, axis=None, name=None)\n",
    "        image_dataset.append(img_features)\n",
    "else: \n",
    "    for img in raw_dataset.input_images:\n",
    "        image_dataset.append(img)"
   ]
  },
  {
   "cell_type": "code",
   "execution_count": 28,
   "metadata": {},
   "outputs": [
    {
     "data": {
      "text/plain": [
       "(256, 256, 3)"
      ]
     },
     "execution_count": 28,
     "metadata": {},
     "output_type": "execute_result"
    }
   ],
   "source": [
    "# shape=(64, 512)\n",
    "image_dataset[0].shape"
   ]
  },
  {
   "cell_type": "markdown",
   "metadata": {},
   "source": [
    "## Preprocess and tokenize the captions"
   ]
  },
  {
   "cell_type": "code",
   "execution_count": 29,
   "metadata": {},
   "outputs": [],
   "source": [
    "# Find the maximum length of any caption in our dataset\n",
    "def calc_max_length(tensor):\n",
    "    return max(len(t) for t in tensor)"
   ]
  },
  {
   "cell_type": "code",
   "execution_count": 30,
   "metadata": {},
   "outputs": [],
   "source": [
    "# Pad each vector to the max_length of the captions\n",
    "# If you do not provide a max_length value, pad_sequences calculates it automatically\n",
    "cap_vector = tf.keras.preprocessing.sequence.pad_sequences(raw_dataset.total_sequences, padding='post')"
   ]
  },
  {
   "cell_type": "code",
   "execution_count": 31,
   "metadata": {},
   "outputs": [
    {
     "data": {
      "text/plain": [
       "array([0, 2, 3, 4, 2, 3, 5, 3, 6, 7, 7, 1, 0, 0, 0, 0, 0, 0, 0, 0, 0, 0,\n",
       "       0, 0, 0, 0, 0, 0, 0, 0, 0, 0, 0, 0, 0, 0, 0], dtype=int32)"
      ]
     },
     "execution_count": 31,
     "metadata": {},
     "output_type": "execute_result"
    }
   ],
   "source": [
    "cap_vector[0]"
   ]
  },
  {
   "cell_type": "code",
   "execution_count": 32,
   "metadata": {},
   "outputs": [
    {
     "data": {
      "text/plain": [
       "37"
      ]
     },
     "execution_count": 32,
     "metadata": {},
     "output_type": "execute_result"
    }
   ],
   "source": [
    "# Calculates the max_length, which is used to store the attention weights\n",
    "max_length = calc_max_length(raw_dataset.total_sequences)\n",
    "max_length"
   ]
  },
  {
   "cell_type": "code",
   "execution_count": 33,
   "metadata": {},
   "outputs": [
    {
     "name": "stdout",
     "output_type": "stream",
     "text": [
      "{'<START>': 0, '<END>': 1, 'row': 2, 'label': 3, 'btn': 4, 'slider': 5, 'footer': 6, 'btn-notifications': 7, 'switch': 8, 'btn-dashboard': 9, 'btn-search': 10, 'radio': 11, 'check': 12, 'btn-home': 13}\n"
     ]
    },
    {
     "data": {
      "text/plain": [
       "14"
      ]
     },
     "execution_count": 33,
     "metadata": {},
     "output_type": "execute_result"
    }
   ],
   "source": [
    "voc = Vocabulary()\n",
    "voc.retrieve(output_path)\n",
    "voc.size"
   ]
  },
  {
   "cell_type": "markdown",
   "metadata": {},
   "source": [
    "## Split the data into training and testing"
   ]
  },
  {
   "cell_type": "markdown",
   "metadata": {},
   "source": [
    "### Notas\n",
    "- Fijar Random Seed !!!!"
   ]
  },
  {
   "cell_type": "code",
   "execution_count": 34,
   "metadata": {},
   "outputs": [],
   "source": [
    "# Scikit-learn includes many helpful utilities\n",
    "from sklearn.model_selection import train_test_split\n",
    "from sklearn.utils import shuffle"
   ]
  },
  {
   "cell_type": "code",
   "execution_count": 35,
   "metadata": {},
   "outputs": [],
   "source": [
    "# Create training and validation sets using an 80-20 split\n",
    "img_name_train, img_name_val, cap_train, cap_val = train_test_split(image_dataset,\n",
    "                                                                    cap_vector,\n",
    "                                                                    test_size=0.2,\n",
    "                                                                    random_state=0)"
   ]
  },
  {
   "cell_type": "code",
   "execution_count": 36,
   "metadata": {},
   "outputs": [
    {
     "data": {
      "text/plain": [
       "(1200, 1200, 300, 300)"
      ]
     },
     "execution_count": 36,
     "metadata": {},
     "output_type": "execute_result"
    }
   ],
   "source": [
    "len(img_name_train), len(cap_train), len(img_name_val), len(cap_val)"
   ]
  },
  {
   "cell_type": "markdown",
   "metadata": {},
   "source": [
    "## Create a tf.data dataset for training"
   ]
  },
  {
   "cell_type": "code",
   "execution_count": 37,
   "metadata": {},
   "outputs": [],
   "source": [
    "# Feel free to change these parameters according to your system's configuration\n",
    "BATCH_SIZE = 24\n",
    "\n",
    "embedding_dim = 128\n",
    "# units = 512\n",
    "units = 128\n",
    "vocab_size = 14\n",
    "\n",
    "num_steps = len(img_name_train) // BATCH_SIZE\n",
    "\n",
    "# Shape of the vector extracted from InceptionV3 is (64, 512)\n",
    "# These two variables represent that vector shape\n",
    "# features_shape = 512\n",
    "features_shape = 128\n",
    "# attention_features_shape = 64\n",
    "attention_features_shape = 28*28"
   ]
  },
  {
   "cell_type": "code",
   "execution_count": 38,
   "metadata": {},
   "outputs": [],
   "source": [
    "dataset = tf.data.Dataset.from_tensor_slices((img_name_train, cap_train))"
   ]
  },
  {
   "cell_type": "code",
   "execution_count": 39,
   "metadata": {},
   "outputs": [],
   "source": [
    "# Batch\n",
    "dataset = dataset.batch(BATCH_SIZE)\n",
    "# dataset = dataset.shuffle(buffer_size=1024).batch(BATCH_SIZE)"
   ]
  },
  {
   "cell_type": "markdown",
   "metadata": {},
   "source": [
    "# Model"
   ]
  },
  {
   "cell_type": "code",
   "execution_count": 40,
   "metadata": {},
   "outputs": [],
   "source": [
    "class BahdanauAttention(tf.keras.Model):\n",
    "    def __init__(self, units):\n",
    "        super(BahdanauAttention, self).__init__()\n",
    "        self.W1 = tf.keras.layers.Dense(units)\n",
    "        self.W2 = tf.keras.layers.Dense(units)\n",
    "        self.V = tf.keras.layers.Dense(1)\n",
    "\n",
    "    def call(self, features, hidden):\n",
    "        # features es el CNN_encoder output shape == (batch_size, 64, embedding_dim)\n",
    "\n",
    "        # hidden shape == (batch_size, hidden_size)\n",
    "        \n",
    "        # hidden_with_time_axis shape == (batch_size, 1, hidden_size)\n",
    "        hidden_with_time_axis = tf.expand_dims(hidden, 1)\n",
    "\n",
    "        # score shape == (batch_size, 64, hidden_size)\n",
    "        score = tf.nn.tanh(self.W1(features) + self.W2(hidden_with_time_axis))\n",
    "\n",
    "        # attention_weights shape == (batch_size, 64, 1)\n",
    "        # tienes 1 en el last axis porque aplicas score a self.V\n",
    "        attention_weights = tf.nn.softmax(self.V(score), axis=1)\n",
    "\n",
    "        # context_vector shape after sum == (batch_size, hidden_size)\n",
    "        context_vector = attention_weights * features\n",
    "        context_vector = tf.reduce_sum(context_vector, axis=1)\n",
    "\n",
    "        return context_vector, attention_weights"
   ]
  },
  {
   "cell_type": "code",
   "execution_count": 41,
   "metadata": {},
   "outputs": [],
   "source": [
    "if VGG_OUT_LOOP:\n",
    "    class CNN_Encoder(tf.keras.Model):\n",
    "        # Commo ya se extrajeron las features sólo se pasan por una FC\n",
    "        def __init__(self, embedding_dim):\n",
    "            super(CNN_Encoder, self).__init__()\n",
    "            # fc == (batch_size, 64, embedding_dim)\n",
    "            self.fc = tf.keras.layers.Dense(embedding_dim)\n",
    "\n",
    "        def call(self, x):\n",
    "            x = self.fc(x)\n",
    "  #         x = tf.nn.relu(x)\n",
    "            return x\n",
    "else:\n",
    "    class CNN_Encoder(tf.keras.Model):\n",
    "        def __init__(self, embedding_dim):\n",
    "            super(CNN_Encoder, self).__init__()\n",
    "#             self.image_model = image_features_extract_model\n",
    "            self.image_model = image_model\n",
    "            # fc == (batch_size, 64, embedding_dim)\n",
    "            self.fc = tf.keras.layers.Dense(embedding_dim)\n",
    "\n",
    "        def call(self, x):\n",
    "    #       x = self.image_features_extract_model(x)\n",
    "            x = self.image_model(x) \n",
    "            x = tf.reshape(x,(x.shape[0], -1, x.shape[3]))\n",
    "    #       x = tf.squeeze(x, axis=None, name=None)\n",
    "            x = self.fc(x)\n",
    "            return x"
   ]
  },
  {
   "cell_type": "code",
   "execution_count": 42,
   "metadata": {},
   "outputs": [],
   "source": [
    "class RNN_Decoder(tf.keras.Model):\n",
    "    def __init__(self, embedding_dim, units, vocab_size):\n",
    "        super(RNN_Decoder, self).__init__()\n",
    "        self.units = units\n",
    "\n",
    "        self.embedding = tf.keras.layers.Embedding(vocab_size, embedding_dim)\n",
    "        self.gru = tf.keras.layers.GRU(self.units,\n",
    "                                       return_sequences=True,\n",
    "                                       return_state=True,\n",
    "                                       recurrent_initializer='glorot_uniform')\n",
    "        self.fc1 = tf.keras.layers.Dense(self.units)\n",
    "        self.fc2 = tf.keras.layers.Dense(vocab_size)\n",
    "\n",
    "        self.attention = BahdanauAttention(self.units)\n",
    "\n",
    "    def call(self, x, features, hidden):\n",
    "        # attention\n",
    "        context_vector, attention_weights = self.attention(features, hidden)\n",
    "\n",
    "        # despues de embedding == (batch_size, 1, embedding_dim)\n",
    "        x = self.embedding(x)\n",
    "\n",
    "        # despues de concatenation == (batch_size, 1, embedding_dim + hidden_size)\n",
    "        x = tf.concat([tf.expand_dims(context_vector, 1), x], axis=-1)\n",
    "\n",
    "        # pasar x a la GRU\n",
    "        output, state = self.gru(x)\n",
    "\n",
    "        # shape == (batch_size, max_length, hidden_size)\n",
    "        x = self.fc1(output)\n",
    "\n",
    "        # shape == (batch_size * max_length, hidden_size)\n",
    "        x = tf.reshape(x, (-1, x.shape[2]))\n",
    "\n",
    "        # output shape == (batch_size * max_length, vocab)\n",
    "        x = self.fc2(x)\n",
    "        \n",
    "        # relu added - con softmax!!\n",
    "#         x = tf.nn.relu(x)\n",
    "\n",
    "        return x, state, attention_weights\n",
    "\n",
    "    def reset_state(self, batch_size):\n",
    "        return tf.zeros((batch_size, self.units))"
   ]
  },
  {
   "cell_type": "code",
   "execution_count": 43,
   "metadata": {},
   "outputs": [],
   "source": [
    "# class Pix2Code(tf.keras.Model):\n",
    "#     def __init__(self, encoder, decoder):\n",
    "#         super(Pix2Code, self).__init__()\n",
    "#         self.encoder = encoder\n",
    "#         self.decoder = decoder\n",
    "\n",
    "#     def train_step(self, inputs):\n",
    "#         loss = 0\n",
    "\n",
    "#         img_tensor = inputs[0]\n",
    "#         target = inputs[1]\n",
    "\n",
    "#         # initializing the hidden state for each batch\n",
    "#         hidden = self.decoder.reset_state(batch_size=target.shape[0])\n",
    "\n",
    "#         dec_input = tf.expand_dims([0] * target.shape[0], 1)\n",
    "\n",
    "#         with tf.GradientTape() as tape:\n",
    "\n",
    "#             features = self.encoder(img_tensor)\n",
    "\n",
    "#             for i in range(1, target.shape[1]):\n",
    "#                 # passing the features through the decoder\n",
    "#                 predictions, hidden, _ = decoder(dec_input, features, hidden)\n",
    "\n",
    "#                 loss += self.compiled_loss(target[:, i], predictions)\n",
    "\n",
    "#                 # using teacher forcing\n",
    "#                 dec_input = tf.expand_dims(target[:, i], 1)\n",
    "\n",
    "#         total_loss = (loss / int(target.shape[1]))\n",
    "\n",
    "#         trainable_variables = encoder.trainable_variables + decoder.trainable_variables\n",
    "\n",
    "#         gradients = tape.gradient(loss, trainable_variables)\n",
    "\n",
    "#         self.optimizer.apply_gradients(zip(gradients, trainable_variables))\n",
    "\n",
    "# #         return loss, total_loss\n",
    "#         return {\"loss\": loss}\n"
   ]
  },
  {
   "cell_type": "code",
   "execution_count": 44,
   "metadata": {},
   "outputs": [],
   "source": [
    "# encoder = CNN_Encoder(embedding_dim)\n",
    "encoder = CNN_Encoder(embedding_dim)\n",
    "decoder = RNN_Decoder(embedding_dim, units, vocab_size)"
   ]
  },
  {
   "cell_type": "code",
   "execution_count": 45,
   "metadata": {},
   "outputs": [],
   "source": [
    "# optimizer = tf.keras.optimizers.Adam() \n",
    "optimizer = tf.keras.optimizers.Adam(lr=0.0001, epsilon=1e-07) \n",
    "loss_object = tf.keras.losses.SparseCategoricalCrossentropy(\n",
    "    from_logits=True, reduction='none') # mirar si el va el softmax incorporado \n",
    "\n",
    "def loss_function(real, pred):\n",
    "    mask = tf.math.logical_not(tf.math.equal(real, 0))\n",
    "    loss_ = loss_object(real, pred)\n",
    "\n",
    "    mask = tf.cast(mask, dtype=loss_.dtype)\n",
    "    loss_ *= mask\n",
    "\n",
    "    return tf.reduce_mean(loss_)"
   ]
  },
  {
   "cell_type": "code",
   "execution_count": 46,
   "metadata": {},
   "outputs": [],
   "source": [
    "# pix2code = Pix2Code(encoder=encoder, decoder=decoder)\n",
    "# pix2code.compile(optimizer=optimizer, loss=loss_function)\n",
    "# pix2code.fit(dataset.take(100), epochs=5)"
   ]
  },
  {
   "cell_type": "markdown",
   "metadata": {},
   "source": [
    "### Checkpoint"
   ]
  },
  {
   "cell_type": "code",
   "execution_count": 47,
   "metadata": {},
   "outputs": [],
   "source": [
    "model_name = 'prueba'"
   ]
  },
  {
   "cell_type": "code",
   "execution_count": 48,
   "metadata": {},
   "outputs": [],
   "source": [
    "checkpoint_path = \"{}/checkpoints/{}\".format(output_path, model_name)\n",
    "ckpt = tf.train.Checkpoint(encoder=encoder,\n",
    "                           decoder=decoder,\n",
    "                           optimizer = optimizer)\n",
    "ckpt_manager = tf.train.CheckpointManager(ckpt, checkpoint_path, max_to_keep=5)"
   ]
  },
  {
   "cell_type": "code",
   "execution_count": 49,
   "metadata": {},
   "outputs": [],
   "source": [
    "start_epoch = 0\n",
    "if ckpt_manager.latest_checkpoint:\n",
    "    start_epoch = int(ckpt_manager.latest_checkpoint.split('-')[-1])\n",
    "    # restoring the latest checkpoint in checkpoint_path\n",
    "    ckpt.restore(ckpt_manager.latest_checkpoint)"
   ]
  },
  {
   "cell_type": "markdown",
   "metadata": {},
   "source": [
    "# Train the model"
   ]
  },
  {
   "cell_type": "code",
   "execution_count": 50,
   "metadata": {},
   "outputs": [],
   "source": [
    "# for (batch, (img_tensor, target)) in enumerate(dataset): \n",
    "#     loss = 0\n",
    "#     hidden = decoder.reset_state(batch_size=target.shape[1])\n",
    "#     dec_input = tf.expand_dims([START_TOKEN] * target.shape[1], 1)\n",
    "#     with tf.GradientTape() as tape:\n",
    "#         features = encoder(img_tensor)\n",
    "#         for i in range(1, target.shape[1]):\n",
    "#             # passing the features through the decoder\n",
    "#             print(dec_input, features_aux, hidden)\n",
    "#             predictions, hidden, _ = decoder(dec_input, features, hidden)\n",
    "#             print(predictions, hidden)\n",
    "#             loss += loss_function(target[:, i], predictions)\n",
    "#             dec_input = tf.expand_dims(target[:, i], 1)\n",
    "#             print(\"\")\n",
    "#             print(\"DECODER INPUT {}\".format(dec_input))\n",
    "#             print(\"loss {}\".format(loss))\n",
    "#             print(\"\")\n",
    "#         total_loss = (loss / int(target.shape[1]))\n",
    "#         print(\"\")\n",
    "#         print(\"TOTAL LOSS {}\".format(total_loss))\n",
    "#         trainable_variables = encoder.trainable_variables + decoder.trainable_variables\n",
    "#         print(\"ENCODER TRAINABLE VAR  {}\".format(encoder.trainable_variables))\n",
    "#         print(\"DECODER TRAINABLE VAR  {}\".format(decoder.trainable_variables))\n",
    "#         print(\"TRAINABLE VAR {}\".format(trainable_variables))\n",
    "#         print(\"\")\n",
    "#         gradients = tape.gradient(loss, trainable_variables)\n",
    "#         print(\"GRADIENTS {}\".format(gradients))\n",
    "#         optimizer.apply_gradients(zip(gradients, trainable_variables)\n",
    "    "
   ]
  },
  {
   "cell_type": "code",
   "execution_count": 51,
   "metadata": {},
   "outputs": [],
   "source": [
    "import time\n",
    "# adding this in a separate cell because if you run the training cell\n",
    "# many times, the loss_plot array will be reset\n",
    "loss_plot = []"
   ]
  },
  {
   "cell_type": "markdown",
   "metadata": {},
   "source": [
    "### Notas\n",
    "- Hidden: inicializar con la media"
   ]
  },
  {
   "cell_type": "code",
   "execution_count": 52,
   "metadata": {},
   "outputs": [],
   "source": [
    "def train_step(img_tensor, target):\n",
    "    loss = 0\n",
    "\n",
    "    # initializing the hidden state for each batch\n",
    "    hidden = decoder.reset_state(batch_size=target.shape[0])\n",
    "\n",
    "    dec_input = tf.expand_dims([0] * target.shape[0], 1)\n",
    "\n",
    "    with tf.GradientTape() as tape:\n",
    "\n",
    "        features = encoder(img_tensor)\n",
    "\n",
    "        for i in range(1, target.shape[1]):\n",
    "            # passing the features through the decoder\n",
    "            predictions, hidden, _ = decoder(dec_input, features, hidden)\n",
    "\n",
    "            loss += loss_function(target[:, i], predictions)\n",
    "\n",
    "            # using teacher forcing\n",
    "            dec_input = tf.expand_dims(target[:, i], 1)\n",
    "\n",
    "    total_loss = (loss / int(target.shape[1]))\n",
    "\n",
    "    trainable_variables = encoder.trainable_variables + decoder.trainable_variables\n",
    "\n",
    "    gradients = tape.gradient(loss, trainable_variables)\n",
    "\n",
    "    optimizer.apply_gradients(zip(gradients, trainable_variables))\n",
    "\n",
    "    return loss, total_loss"
   ]
  },
  {
   "cell_type": "code",
   "execution_count": 53,
   "metadata": {},
   "outputs": [
    {
     "name": "stdout",
     "output_type": "stream",
     "text": [
      "WARNING:tensorflow:From /home/sracela/miniconda3/envs/p2c/lib/python3.6/site-packages/tensorflow/python/ops/math_grad.py:1220: add_dispatch_support.<locals>.wrapper (from tensorflow.python.ops.array_ops) is deprecated and will be removed in a future version.\n",
      "Instructions for updating:\n",
      "Use tf.where in 2.0, which has the same broadcast rule as np.where\n",
      "Epoch 1 Batch 0 Loss 1.1560\n",
      "Epoch 1 Loss 1.185129\n",
      "Time taken for 1 epoch 57.90885591506958 sec\n",
      "\n",
      "Epoch 2 Batch 0 Loss 1.0348\n",
      "Epoch 2 Loss 1.120550\n",
      "Time taken for 1 epoch 58.0961856842041 sec\n",
      "\n",
      "Epoch 3 Batch 0 Loss 1.0104\n",
      "Epoch 3 Loss 1.080723\n",
      "Time taken for 1 epoch 60.29717755317688 sec\n",
      "\n",
      "Epoch 4 Batch 0 Loss 0.9564\n",
      "Epoch 4 Loss 0.970308\n",
      "Time taken for 1 epoch 57.611695289611816 sec\n",
      "\n",
      "Diff loss -0.11041498184204102\n",
      "Epoch 5 Batch 0 Loss 0.8150\n",
      "Epoch 5 Loss 0.803005\n",
      "Time taken for 1 epoch 58.564202070236206 sec\n",
      "\n",
      "Diff loss -0.16730302572250366\n",
      "Epoch 6 Batch 0 Loss 0.6948\n",
      "Epoch 6 Loss 0.703060\n",
      "Time taken for 1 epoch 62.38993573188782 sec\n",
      "\n",
      "Diff loss -0.09994548559188843\n",
      "Epoch 7 Batch 0 Loss 0.6233\n",
      "Epoch 7 Loss 0.654645\n",
      "Time taken for 1 epoch 63.06031918525696 sec\n",
      "\n",
      "Diff loss -0.04841470718383789\n",
      "Epoch 8 Batch 0 Loss 0.5924\n",
      "Epoch 8 Loss 0.629386\n",
      "Time taken for 1 epoch 60.54426956176758 sec\n",
      "\n",
      "Diff loss -0.025259315967559814\n",
      "Epoch 9 Batch 0 Loss 0.5724\n",
      "Epoch 9 Loss 0.610059\n",
      "Time taken for 1 epoch 69.37323546409607 sec\n",
      "\n",
      "Diff loss -0.019327223300933838\n",
      "Epoch 10 Batch 0 Loss 0.5555\n",
      "Epoch 10 Loss 0.591141\n",
      "Time taken for 1 epoch 69.63942503929138 sec\n",
      "\n",
      "Diff loss -0.018917739391326904\n",
      "Epoch 11 Batch 0 Loss 0.5388\n",
      "Epoch 11 Loss 0.578742\n",
      "Time taken for 1 epoch 70.30288982391357 sec\n",
      "\n",
      "Diff loss -0.01239919662475586\n",
      "Epoch 12 Batch 0 Loss 0.5303\n",
      "Epoch 12 Loss 0.567624\n",
      "Time taken for 1 epoch 71.43260622024536 sec\n",
      "\n",
      "Diff loss -0.011117935180664062\n",
      "Epoch 13 Batch 0 Loss 0.5222\n",
      "Epoch 13 Loss 0.560316\n",
      "Time taken for 1 epoch 73.04443788528442 sec\n",
      "\n",
      "Diff loss -0.007307827472686768\n",
      "Epoch 14 Batch 0 Loss 0.5170\n",
      "Epoch 14 Loss 0.554699\n",
      "Time taken for 1 epoch 74.36028861999512 sec\n",
      "\n",
      "Diff loss -0.005616664886474609\n",
      "Epoch 15 Batch 0 Loss 0.5110\n",
      "Epoch 15 Loss 0.548883\n",
      "Time taken for 1 epoch 75.59298920631409 sec\n",
      "\n",
      "Diff loss -0.005816221237182617\n",
      "Epoch 16 Batch 0 Loss 0.5086\n",
      "Epoch 16 Loss 0.545072\n",
      "Time taken for 1 epoch 75.07472443580627 sec\n",
      "\n",
      "Diff loss -0.0038107633590698242\n",
      "Epoch 17 Batch 0 Loss 0.5058\n",
      "Epoch 17 Loss 0.540698\n",
      "Time taken for 1 epoch 75.21519351005554 sec\n",
      "\n",
      "Diff loss -0.004374563694000244\n",
      "Epoch 18 Batch 0 Loss 0.5038\n",
      "Epoch 18 Loss 0.538027\n",
      "Time taken for 1 epoch 80.65455389022827 sec\n",
      "\n",
      "Diff loss -0.0026704072952270508\n",
      "Epoch 19 Batch 0 Loss 0.5016\n",
      "Epoch 19 Loss 0.535890\n",
      "Time taken for 1 epoch 81.03222131729126 sec\n",
      "\n",
      "Diff loss -0.0021376609802246094\n",
      "Epoch 20 Batch 0 Loss 0.4995\n",
      "Epoch 20 Loss 0.534136\n",
      "Time taken for 1 epoch 79.56766676902771 sec\n",
      "\n",
      "Diff loss -0.0017537474632263184\n",
      "Epoch 21 Batch 0 Loss 0.4966\n",
      "Epoch 21 Loss 0.532438\n",
      "Time taken for 1 epoch 81.5276951789856 sec\n",
      "\n",
      "Diff loss -0.001698136329650879\n",
      "Epoch 22 Batch 0 Loss 0.4946\n",
      "Epoch 22 Loss 0.531033\n",
      "Time taken for 1 epoch 78.34401082992554 sec\n",
      "\n",
      "Diff loss -0.0014047622680664062\n",
      "Epoch 23 Batch 0 Loss 0.4934\n",
      "Epoch 23 Loss 0.529915\n",
      "Time taken for 1 epoch 82.55175352096558 sec\n",
      "\n",
      "Diff loss -0.0011180639266967773\n",
      "Epoch 24 Batch 0 Loss 0.4924\n",
      "Epoch 24 Loss 0.528992\n",
      "Time taken for 1 epoch 77.90932202339172 sec\n",
      "\n",
      "Diff loss -0.0009227395057678223\n",
      "Early stopping STOP\n"
     ]
    }
   ],
   "source": [
    "EPOCHS = 100\n",
    "\n",
    "for epoch in range(start_epoch, EPOCHS):\n",
    "    start = time.time()\n",
    "    total_loss = 0\n",
    "    diff_plot = 100\n",
    "\n",
    "    for (batch, (img_tensor, target)) in enumerate(dataset):\n",
    "        batch_loss, t_loss = train_step(img_tensor, target)\n",
    "        total_loss += t_loss\n",
    "\n",
    "        if batch % 100 == 0:\n",
    "            print ('Epoch {} Batch {} Loss {:.4f}'.format(\n",
    "              epoch + 1, batch, batch_loss.numpy() / int(target.shape[1])))\n",
    "    # storing the epoch end loss value to plot later\n",
    "    loss_plot.append(total_loss / num_steps)\n",
    "  # saving (checkpoint) the model every 2 epochs\n",
    "    if (epoch + 1) % 2 == 0:\n",
    "        ckpt_manager.save()\n",
    "    print ('Epoch {} Loss {:.6f}'.format(epoch + 1,\n",
    "                                         total_loss/num_steps))\n",
    "    print ('Time taken for 1 epoch {} sec\\n'.format(time.time() - start))\n",
    "    #Early stopping\n",
    "    if epoch > 2:\n",
    "        diff_plot = loss_plot[-1] - loss_plot[-2]\n",
    "        print('Diff loss {}'.format(diff_plot))\n",
    "    if abs(diff_plot) <= 0.001:\n",
    "        ckpt_manager.save()\n",
    "        print('Early stopping STOP')\n",
    "        break"
   ]
  },
  {
   "cell_type": "code",
   "execution_count": 54,
   "metadata": {},
   "outputs": [],
   "source": [
    "import matplotlib.pyplot as plt"
   ]
  },
  {
   "cell_type": "code",
   "execution_count": 55,
   "metadata": {},
   "outputs": [
    {
     "data": {
      "image/png": "[encoded data removed]",
      "text/plain": [
       "<Figure size 432x288 with 1 Axes>"
      ]
     },
     "metadata": {
      "needs_background": "light"
     },
     "output_type": "display_data"
    }
   ],
   "source": [
    "plt.plot(loss_plot)\n",
    "plt.xlabel('Epochs')\n",
    "plt.ylabel('Loss')\n",
    "plt.title('Loss Plot')\n",
    "plt.show()"
   ]
  },
  {
   "cell_type": "markdown",
   "metadata": {},
   "source": [
    "### Save weights"
   ]
  },
  {
   "cell_type": "code",
   "execution_count": 56,
   "metadata": {},
   "outputs": [
    {
     "data": {
      "text/plain": [
       "'1.14.0'"
      ]
     },
     "execution_count": 56,
     "metadata": {},
     "output_type": "execute_result"
    }
   ],
   "source": [
    "tf.__version__"
   ]
  },
  {
   "cell_type": "code",
   "execution_count": 57,
   "metadata": {},
   "outputs": [],
   "source": [
    "# encoder.get_config()"
   ]
  },
  {
   "cell_type": "code",
   "execution_count": 58,
   "metadata": {},
   "outputs": [],
   "source": [
    "# w_path = \"{}/notebook\".format(output_path)\n",
    "# # encoder._set_inputs(hidden_layer)\n",
    "# # decoder._set_inputs(hidden_layer)\n",
    "# tf.keras.experimental.export_saved_model(encoder, \"{}/encoder\".format(w_path), serving_only=True)\n",
    "# # encoder.save(\"{}/encoder\".format(w_path),save_format='tf')\n",
    "# # decoder.save(\"{}/encoder\".format(w_path),save_format='tf')\n",
    "# # encoder.save_weights(\"{}/encoder\".format(w_path), save_format=\"h5\")\n",
    "# # decoder.save_weights(\"{}/decoder\".format(w_path), save_format=\"h5\")  "
   ]
  },
  {
   "cell_type": "code",
   "execution_count": 59,
   "metadata": {},
   "outputs": [],
   "source": [
    "# encoder.summary()"
   ]
  },
  {
   "cell_type": "code",
   "execution_count": 60,
   "metadata": {},
   "outputs": [],
   "source": [
    "# new_model = tf.keras.experimental.load_from_saved_model(\"{}/encoder\".format(w_path))\n",
    "# new_model.summary()"
   ]
  },
  {
   "cell_type": "code",
   "execution_count": 61,
   "metadata": {},
   "outputs": [],
   "source": [
    "# del encoder  # deletes the existing model\n",
    "# del decoder"
   ]
  },
  {
   "cell_type": "markdown",
   "metadata": {},
   "source": [
    "## Evaluate"
   ]
  },
  {
   "cell_type": "code",
   "execution_count": 62,
   "metadata": {},
   "outputs": [],
   "source": [
    "# encoder = CNN_Encoder(embedding_dim)\n",
    "# decoder = RNN_Decoder(embedding_dim, units, vocab_size)\n",
    "# encoder.load_weights(\"{}/encoder\".format(w_path))\n",
    "# decoder.load_weights(\"{}/decoder\".format(w_path))\n",
    "# encoder = tf.keras.models.load_model(\"{}/encoder\".format(w_path))\n",
    "# decoder = tf.keras.models.load_model(\"{}/decoder\".format(w_path))"
   ]
  },
  {
   "cell_type": "code",
   "execution_count": 63,
   "metadata": {},
   "outputs": [],
   "source": [
    "from PIL import Image\n"
   ]
  },
  {
   "cell_type": "markdown",
   "metadata": {},
   "source": [
    "### Evaluation Dataset"
   ]
  },
  {
   "cell_type": "code",
   "execution_count": 64,
   "metadata": {},
   "outputs": [],
   "source": [
    "eval_path = '../datasets/android/eval_set'"
   ]
  },
  {
   "cell_type": "code",
   "execution_count": 65,
   "metadata": {},
   "outputs": [],
   "source": [
    "# max_length= 37\n",
    "# attention_features_shape = 28*28"
   ]
  },
  {
   "cell_type": "code",
   "execution_count": 66,
   "metadata": {},
   "outputs": [
    {
     "name": "stdout",
     "output_type": "stream",
     "text": [
      "Loading data...\n",
      "Generating sparse vectors...\n",
      "Dataset size: 250\n",
      "Vocabulary size: 14\n",
      "Input shape: (256, 256, 3)\n",
      "Output size: 14\n"
     ]
    }
   ],
   "source": [
    "# Load caption annotation files and image files in Dataset\n",
    "eval_raw_dataset = Dataset()\n",
    "eval_raw_dataset.load(eval_path)"
   ]
  },
  {
   "cell_type": "code",
   "execution_count": 67,
   "metadata": {},
   "outputs": [],
   "source": [
    "def evaluate(image):\n",
    "    attention_plot = np.zeros((max_length, attention_features_shape))\n",
    "\n",
    "    hidden = decoder.reset_state(batch_size=1)\n",
    "\n",
    "    features = encoder(image)\n",
    "\n",
    "    dec_input = tf.expand_dims([0], 0)\n",
    "    result = []\n",
    "\n",
    "    for i in range(max_length):\n",
    "        predictions, hidden, attention_weights = decoder(dec_input, features, hidden)\n",
    "\n",
    "        attention_plot[i] = tf.reshape(attention_weights, (-1, )).numpy()\n",
    "\n",
    "        predicted_id = tf.random.categorical(predictions, 1)[0][0].numpy() #escoger el máx\n",
    "\n",
    "        result.append(voc.token_lookup[predicted_id])\n",
    "\n",
    "        if voc.token_lookup[predicted_id] == '<END>':\n",
    "            return result, attention_plot\n",
    "\n",
    "        dec_input = tf.expand_dims([predicted_id], 0)\n",
    "\n",
    "    attention_plot = attention_plot[:len(result), :]\n",
    "    return result, attention_plot"
   ]
  },
  {
   "cell_type": "code",
   "execution_count": 68,
   "metadata": {},
   "outputs": [],
   "source": [
    "from scipy.ndimage import gaussian_filter\n"
   ]
  },
  {
   "cell_type": "code",
   "execution_count": 69,
   "metadata": {},
   "outputs": [],
   "source": [
    "def plot_attention(image, result, attention_plot):\n",
    "    temp_image = np.array(Image.open(image))\n",
    "\n",
    "#     fig = plt.figure(figsize=(20, 20))\n",
    "\n",
    "    len_result = len(result)\n",
    "    fig = plt.figure(figsize=(len_result*5, len_result*5))\n",
    "    for l in range(len_result):\n",
    "#         temp_att = np.resize(attention_plot[l], (8, 8))\n",
    "        temp_att = np.resize(attention_plot[l], (28, 28))\n",
    "        temp_att=gaussian_filter(temp_att, sigma=1)\n",
    "        ax = fig.add_subplot(len_result//2, len_result//2, l+1)\n",
    "        ax.set_title(result[l],fontsize=60)\n",
    "        img = ax.imshow(temp_image)\n",
    "        ax.imshow(temp_att, cmap='gray', alpha=0.6, extent=img.get_extent())\n",
    "\n",
    "    plt.tight_layout()\n",
    "    plt.show()"
   ]
  },
  {
   "cell_type": "code",
   "execution_count": 70,
   "metadata": {},
   "outputs": [],
   "source": [
    "def load_image(img):\n",
    "    img = img.reshape([1] + list(eval_raw_dataset.input_shape))\n",
    "    if VGG_OUT_LOOP:\n",
    "        img_features = image_features_extract_model(img)\n",
    "        img_features = tf.reshape(img_features,\n",
    "    (img_features.shape[0], -1, img_features.shape[3]))\n",
    "        img_features = tf.squeeze(\n",
    "        img_features, axis=None, name=None)\n",
    "        return img_features\n",
    "    return img"
   ]
  },
  {
   "cell_type": "code",
   "execution_count": 71,
   "metadata": {
    "scrolled": true
   },
   "outputs": [
    {
     "name": "stdout",
     "output_type": "stream",
     "text": [
      "ID: 866DA238-23A6-4EDB-8AE9-E73E18EE8DBE\n",
      "Real Caption: <START> row check row switch btn switch btn row label slider label row label btn btn btn row switch row check footer btn-search btn-dashboard <END>\n",
      "Prediction Caption: <START> row switch footer btn-dashboard btn-dashboard btn-home btn-notifications btn-notifications <END>\n"
     ]
    },
    {
     "data": {
      "image/png": "[encoded data removed]",
      "text/plain": [
       "<Figure size 3240x3240 with 9 Axes>"
      ]
     },
     "metadata": {
      "needs_background": "light"
     },
     "output_type": "display_data"
    }
   ],
   "source": [
    "# captions on the validation set\n",
    "rid = np.random.randint(0, eval_raw_dataset.size)\n",
    "\n",
    "image = load_image(eval_raw_dataset.input_images[rid])\n",
    "filename = eval_raw_dataset.ids[rid]\n",
    "real_caption = ' '.join([eval_raw_dataset.voc.token_lookup[i] for i in eval_raw_dataset.total_sequences[rid]])\n",
    "\n",
    "result, attention_plot = evaluate(image)\n",
    "\n",
    "print(\"ID: {}\".format(filename))\n",
    "print ('Real Caption:', real_caption)\n",
    "print ('Prediction Caption: <START>', ' '.join(result))\n",
    "\n",
    "\n",
    "plot_attention(\"{}/{}.png\".format(eval_path, filename), result, attention_plot*100)"
   ]
  },
  {
   "cell_type": "markdown",
   "metadata": {},
   "source": [
    "## Word error rate - WER\n",
    "\n",
    "- String edit distance - reconocimiento de texto "
   ]
  },
  {
   "cell_type": "code",
   "execution_count": 72,
   "metadata": {},
   "outputs": [],
   "source": [
    "def edit_distance(str1, str2, m, n): \n",
    "    # Create a table to store results of subproblems \n",
    "    dp = [[0 for x in range(n + 1)] for x in range(m + 1)] \n",
    "  \n",
    "    # Fill d[][] in bottom up manner \n",
    "    for i in range(m + 1): \n",
    "        for j in range(n + 1): \n",
    "  \n",
    "            # If first string is empty, only option is to \n",
    "            # insert all characters of second string \n",
    "            if i == 0: \n",
    "                dp[i][j] = j    # Min. operations = j \n",
    "  \n",
    "            # If second string is empty, only option is to \n",
    "            # remove all characters of second string \n",
    "            elif j == 0: \n",
    "                dp[i][j] = i    # Min. operations = i \n",
    "  \n",
    "            # If last characters are same, ignore last char \n",
    "            # and recur for remaining string \n",
    "            elif str1[i-1] == str2[j-1]: \n",
    "                dp[i][j] = dp[i-1][j-1] \n",
    "  \n",
    "            # If last character are different, consider all \n",
    "            # possibilities and find minimum \n",
    "            else: \n",
    "                dp[i][j] = 1 + min(dp[i][j-1],        # Insert \n",
    "                                   dp[i-1][j],        # Remove \n",
    "                                   dp[i-1][j-1])    # Replace \n",
    "  \n",
    "    return dp[m][n] "
   ]
  },
  {
   "cell_type": "code",
   "execution_count": 73,
   "metadata": {},
   "outputs": [],
   "source": [
    "def wer(decode, target):\n",
    "    \"\"\"Computes the Word Error Rate (WER).\n",
    "    WER is defined as the edit distance between the two provided sentences after\n",
    "    tokenizing to words.\n",
    "    Args:\n",
    "    decode: string of the decoded output.\n",
    "    target: a string for the ground truth label.\n",
    "    Returns:\n",
    "    A float number for the WER of the current decode-target pair.\"\"\"\n",
    "    \n",
    "    # Map each word to a new char.\n",
    "    words = set(decode.split() + target.split())\n",
    "    word2char = dict(zip(words, range(len(words))))\n",
    "    \n",
    "    new_decode = [chr(word2char[w]) for w in decode.split()]\n",
    "    new_target = [chr(word2char[w]) for w in target.split()]\n",
    "    \n",
    "    final_decode = ''.join(new_decode)\n",
    "    final_target = ''.join(new_target)\n",
    "    return edit_distance(final_decode,final_target, len(final_decode), len(final_target))/len(final_target)"
   ]
  },
  {
   "cell_type": "code",
   "execution_count": 74,
   "metadata": {},
   "outputs": [
    {
     "data": {
      "text/plain": [
       "['<START>', 'row', 'label', 'btn', 'btn', 'btn', 'row', 'switch', '<END>']"
      ]
     },
     "execution_count": 74,
     "metadata": {},
     "output_type": "execute_result"
    }
   ],
   "source": [
    "a = \"<START> row label btn btn btn row switch <END>\"\n",
    "b= \"<START> row label btn btn btn row label btn row label slider label <END>\"\n",
    "a.split()\n",
    "# wer(a, b)"
   ]
  },
  {
   "cell_type": "code",
   "execution_count": 75,
   "metadata": {},
   "outputs": [
    {
     "name": "stdout",
     "output_type": "stream",
     "text": [
      "0.4548019047027907\n"
     ]
    }
   ],
   "source": [
    "import nltk\n",
    "\n",
    "hypothesis = ['It', 'is', 'a', 'cat', 'at', 'room']\n",
    "reference = ['It', 'is', 'a', 'cat', 'inside', 'the', 'room']\n",
    "#there may be several references\n",
    "BLEUscore = nltk.translate.bleu_score.sentence_bleu([reference], hypothesis)\n",
    "print(BLEUscore)"
   ]
  },
  {
   "cell_type": "code",
   "execution_count": 76,
   "metadata": {},
   "outputs": [
    {
     "name": "stderr",
     "output_type": "stream",
     "text": [
      "/home/sracela/miniconda3/envs/p2c/lib/python3.6/site-packages/nltk/translate/bleu_score.py:516: UserWarning: \n",
      "The hypothesis contains 0 counts of 4-gram overlaps.\n",
      "Therefore the BLEU score evaluates to 0, independently of\n",
      "how many N-gram overlaps of lower order it contains.\n",
      "Consider using lower n-gram order or use SmoothingFunction()\n",
      "  warnings.warn(_msg)\n",
      "/home/sracela/miniconda3/envs/p2c/lib/python3.6/site-packages/nltk/translate/bleu_score.py:516: UserWarning: \n",
      "The hypothesis contains 0 counts of 3-gram overlaps.\n",
      "Therefore the BLEU score evaluates to 0, independently of\n",
      "how many N-gram overlaps of lower order it contains.\n",
      "Consider using lower n-gram order or use SmoothingFunction()\n",
      "  warnings.warn(_msg)\n"
     ]
    },
    {
     "data": {
      "text/plain": [
       "(0.8865588230937732, 0.11440946326648634)"
      ]
     },
     "execution_count": 76,
     "metadata": {},
     "output_type": "execute_result"
    }
   ],
   "source": [
    "sum_wer = 0\n",
    "sum_bleu = 0\n",
    "\n",
    "for rid in range(eval_raw_dataset.size):\n",
    "    image = load_image(eval_raw_dataset.input_images[rid])\n",
    "    filename = eval_raw_dataset.ids[rid]\n",
    "    real_caption = ' '.join([eval_raw_dataset.voc.token_lookup[i] for i in eval_raw_dataset.total_sequences[rid]])\n",
    "    result, attention_plot = evaluate(image)\n",
    "\n",
    "    decode = '<START> ' + ' '.join(result)\n",
    "    target = real_caption\n",
    "    image_wer = wer(decode, target)\n",
    "    #print(image_wer) \n",
    "    BLEUscore = nltk.translate.bleu_score.sentence_bleu([target.split()], decode.split())\n",
    "    #print(BLEUscore)\n",
    "    sum_wer += image_wer\n",
    "    sum_bleu += BLEUscore\n",
    "total_wer = sum_wer / eval_raw_dataset.size\n",
    "total_bleu = sum_bleu / eval_raw_dataset.size\n",
    "total_wer, total_bleu\n"
   ]
  },
  {
   "cell_type": "markdown",
   "metadata": {},
   "source": [
    "## Resultados Loss WER\n",
    "\n",
    "(15 epochs) \n",
    "- VGG fuera del LOOP con relu: 19.172, Loss 0.78 \n",
    "- VGG en el LOOP con relu: 8.656, Loss 0.389\n",
    "\n",
    "- VGG fuera del LOOP sin relu: 11.464, Loss 0.47\n",
    "- VGG en el LOOP sin relu: 6.532, Loss 0.298\n",
    "- VGG en el LOOP sin relu con Coordconv: 7.612, Loss:0.261\n",
    "\n",
    "Early stopping de 0.001 (ultima y penultima)\n",
    "- VGG fuera del LOOP: 6.976, Loss 0.241, (Epoch 60), 40s/epoch\n",
    "- VGG fuera del LOOP con Coordconv: 7.572, Loss 0.280, (epoch 39), 40s/epoch\n",
    "- VGG en el LOOP: 4.676, Loss 0.183, (epoch 14), 80s/epoch\n",
    "- VGG en el LOOP con Coordconv: 6.6, Loss:0.189 (epoch 16), 80s/epoch\n"
   ]
  },
  {
   "cell_type": "markdown",
   "metadata": {},
   "source": [
    "## 1. Dataset\n",
    "\n",
    "- _Sacar saltos de linea\n",
    "- _stack { } footer { } -> START = stack{ ; END = } ; SPLIT = }footer{\n",
    "- _Rehacer compilador\n",
    "- Las imágenes deberían mantener el aspect ratio. (pintarlas!!)\n",
    "\n",
    "## 2. Model\n",
    "\n",
    "- Hacer el gráfico de nuevo - mandarlo.\n",
    "- ENCODER\n",
    "\n",
    " - _Meter aquí la VGG.\n",
    " - _Probar a quitar relu en encoder: no hay cambios (quizá un poco de mejora)\n",
    "\n",
    "- DECODER\n",
    "\n",
    "- _Reshape entre fc (este reshape permite que la salida tenga dos dimensiones, PARA LA FUNCIÓN CATEGORICAL)\n",
    "- _Falta relu!! : añadí una relu al final\n",
    "- Probar con softmax - revisar.\n",
    "- Añadir el CoordConv, añadiria a la imagen i,j (dentro de encoder o fuera?)\n",
    "\n",
    "## 3. Training\n",
    "\n",
    "- Hidden: inicializar con la media\n",
    "- _Reducir Learning Rate\n",
    "\n",
    "## 4. Evaluate\n",
    "\n",
    "- _String edit distance - reconocimiento de texto (symbol (character) error rate)\n",
    "- _Hacer función que analice todas: \n",
    "- Revisar con el mismo modelo me da distinto cada vez\n",
    "- Revisar plot de los pesos - Attention.\n",
    "\n",
    "## 5. Server\n",
    "\n",
    "- _Plugins del VSCode para renderizar: encontré comando para convertir a script de Python, me falta probarlo\n",
    "- Probar a hacer script de la notebook y usarlo en el server del cvc\n",
    "\n",
    "\n",
    "## 6. Template TFM\n",
    "\n",
    "- _State of the Art (pix2code, s2s, image captioning)\n",
    "- _Guión (para definir la semana que viene)\n"
   ]
  }
 ],
 "metadata": {
  "kernelspec": {
   "display_name": "Python 3",
   "language": "python",
   "name": "python3"
  },
  "language_info": {
   "codemirror_mode": {
    "name": "ipython",
    "version": 3
   },
   "file_extension": ".py",
   "mimetype": "text/x-python",
   "name": "python",
   "nbconvert_exporter": "python",
   "pygments_lexer": "ipython3",
   "version": "3.6.10"
  }
 },
 "nbformat": 4,
 "nbformat_minor": 4
}
